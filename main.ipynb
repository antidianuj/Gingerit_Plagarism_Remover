{
  "nbformat": 4,
  "nbformat_minor": 0,
  "metadata": {
    "colab": {
      "name": "main.ipynb",
      "provenance": []
    },
    "kernelspec": {
      "name": "python3",
      "display_name": "Python 3"
    },
    "language_info": {
      "name": "python"
    }
  },
  "cells": [
    {
      "cell_type": "code",
      "metadata": {
        "colab": {
          "base_uri": "https://localhost:8080/"
        },
        "id": "sqP2I5t9Xsdx",
        "outputId": "ebe3d2dc-9456-4f68-dd46-438d1fc6db88"
      },
      "source": [
        "!pip install transformers==4.10.2\n",
        "!pip install sentencepiece==0.1.96"
      ],
      "execution_count": 2,
      "outputs": [
        {
          "output_type": "stream",
          "name": "stdout",
          "text": [
            "Collecting transformers==4.10.2\n",
            "  Downloading transformers-4.10.2-py3-none-any.whl (2.8 MB)\n",
            "\u001b[K     |████████████████████████████████| 2.8 MB 9.2 MB/s \n",
            "\u001b[?25hRequirement already satisfied: numpy>=1.17 in /usr/local/lib/python3.7/dist-packages (from transformers==4.10.2) (1.19.5)\n",
            "Collecting pyyaml>=5.1\n",
            "  Downloading PyYAML-5.4.1-cp37-cp37m-manylinux1_x86_64.whl (636 kB)\n",
            "\u001b[K     |████████████████████████████████| 636 kB 45.6 MB/s \n",
            "\u001b[?25hRequirement already satisfied: packaging in /usr/local/lib/python3.7/dist-packages (from transformers==4.10.2) (21.0)\n",
            "Requirement already satisfied: regex!=2019.12.17 in /usr/local/lib/python3.7/dist-packages (from transformers==4.10.2) (2019.12.20)\n",
            "Collecting tokenizers<0.11,>=0.10.1\n",
            "  Downloading tokenizers-0.10.3-cp37-cp37m-manylinux_2_5_x86_64.manylinux1_x86_64.manylinux_2_12_x86_64.manylinux2010_x86_64.whl (3.3 MB)\n",
            "\u001b[K     |████████████████████████████████| 3.3 MB 46.1 MB/s \n",
            "\u001b[?25hRequirement already satisfied: importlib-metadata in /usr/local/lib/python3.7/dist-packages (from transformers==4.10.2) (4.8.1)\n",
            "Collecting sacremoses\n",
            "  Downloading sacremoses-0.0.45-py3-none-any.whl (895 kB)\n",
            "\u001b[K     |████████████████████████████████| 895 kB 75.1 MB/s \n",
            "\u001b[?25hRequirement already satisfied: requests in /usr/local/lib/python3.7/dist-packages (from transformers==4.10.2) (2.23.0)\n",
            "Requirement already satisfied: filelock in /usr/local/lib/python3.7/dist-packages (from transformers==4.10.2) (3.0.12)\n",
            "Requirement already satisfied: tqdm>=4.27 in /usr/local/lib/python3.7/dist-packages (from transformers==4.10.2) (4.62.2)\n",
            "Collecting huggingface-hub>=0.0.12\n",
            "  Downloading huggingface_hub-0.0.17-py3-none-any.whl (52 kB)\n",
            "\u001b[K     |████████████████████████████████| 52 kB 1.5 MB/s \n",
            "\u001b[?25hRequirement already satisfied: typing-extensions in /usr/local/lib/python3.7/dist-packages (from huggingface-hub>=0.0.12->transformers==4.10.2) (3.7.4.3)\n",
            "Requirement already satisfied: pyparsing>=2.0.2 in /usr/local/lib/python3.7/dist-packages (from packaging->transformers==4.10.2) (2.4.7)\n",
            "Requirement already satisfied: zipp>=0.5 in /usr/local/lib/python3.7/dist-packages (from importlib-metadata->transformers==4.10.2) (3.5.0)\n",
            "Requirement already satisfied: chardet<4,>=3.0.2 in /usr/local/lib/python3.7/dist-packages (from requests->transformers==4.10.2) (3.0.4)\n",
            "Requirement already satisfied: certifi>=2017.4.17 in /usr/local/lib/python3.7/dist-packages (from requests->transformers==4.10.2) (2021.5.30)\n",
            "Requirement already satisfied: idna<3,>=2.5 in /usr/local/lib/python3.7/dist-packages (from requests->transformers==4.10.2) (2.10)\n",
            "Requirement already satisfied: urllib3!=1.25.0,!=1.25.1,<1.26,>=1.21.1 in /usr/local/lib/python3.7/dist-packages (from requests->transformers==4.10.2) (1.24.3)\n",
            "Requirement already satisfied: six in /usr/local/lib/python3.7/dist-packages (from sacremoses->transformers==4.10.2) (1.15.0)\n",
            "Requirement already satisfied: joblib in /usr/local/lib/python3.7/dist-packages (from sacremoses->transformers==4.10.2) (1.0.1)\n",
            "Requirement already satisfied: click in /usr/local/lib/python3.7/dist-packages (from sacremoses->transformers==4.10.2) (7.1.2)\n",
            "Installing collected packages: tokenizers, sacremoses, pyyaml, huggingface-hub, transformers\n",
            "  Attempting uninstall: pyyaml\n",
            "    Found existing installation: PyYAML 3.13\n",
            "    Uninstalling PyYAML-3.13:\n",
            "      Successfully uninstalled PyYAML-3.13\n",
            "Successfully installed huggingface-hub-0.0.17 pyyaml-5.4.1 sacremoses-0.0.45 tokenizers-0.10.3 transformers-4.10.2\n",
            "Collecting sentencepiece==0.1.96\n",
            "  Downloading sentencepiece-0.1.96-cp37-cp37m-manylinux_2_17_x86_64.manylinux2014_x86_64.whl (1.2 MB)\n",
            "\u001b[K     |████████████████████████████████| 1.2 MB 8.2 MB/s \n",
            "\u001b[?25hInstalling collected packages: sentencepiece\n",
            "Successfully installed sentencepiece-0.1.96\n"
          ]
        }
      ]
    },
    {
      "cell_type": "code",
      "metadata": {
        "colab": {
          "base_uri": "https://localhost:8080/",
          "height": 442
        },
        "id": "kOVDv_yFZKtJ",
        "outputId": "2cdf6580-47cf-4509-a3aa-4f276cbf03ee"
      },
      "source": [
        "!pip install gingerit"
      ],
      "execution_count": 4,
      "outputs": [
        {
          "output_type": "stream",
          "name": "stdout",
          "text": [
            "Collecting gingerit\n",
            "  Downloading gingerit-0.8.2-py3-none-any.whl (3.3 kB)\n",
            "Collecting requests<3.0.0,>=2.25.1\n",
            "  Downloading requests-2.26.0-py2.py3-none-any.whl (62 kB)\n",
            "\u001b[K     |████████████████████████████████| 62 kB 759 kB/s \n",
            "\u001b[?25hRequirement already satisfied: idna<4,>=2.5 in /usr/local/lib/python3.7/dist-packages (from requests<3.0.0,>=2.25.1->gingerit) (2.10)\n",
            "Requirement already satisfied: urllib3<1.27,>=1.21.1 in /usr/local/lib/python3.7/dist-packages (from requests<3.0.0,>=2.25.1->gingerit) (1.24.3)\n",
            "Requirement already satisfied: charset-normalizer~=2.0.0 in /usr/local/lib/python3.7/dist-packages (from requests<3.0.0,>=2.25.1->gingerit) (2.0.5)\n",
            "Requirement already satisfied: certifi>=2017.4.17 in /usr/local/lib/python3.7/dist-packages (from requests<3.0.0,>=2.25.1->gingerit) (2021.5.30)\n",
            "Installing collected packages: requests, gingerit\n",
            "  Attempting uninstall: requests\n",
            "    Found existing installation: requests 2.23.0\n",
            "    Uninstalling requests-2.23.0:\n",
            "      Successfully uninstalled requests-2.23.0\n",
            "\u001b[31mERROR: pip's dependency resolver does not currently take into account all the packages that are installed. This behaviour is the source of the following dependency conflicts.\n",
            "google-colab 1.0.0 requires requests~=2.23.0, but you have requests 2.26.0 which is incompatible.\n",
            "datascience 0.10.6 requires folium==0.2.1, but you have folium 0.8.3 which is incompatible.\u001b[0m\n",
            "Successfully installed gingerit-0.8.2 requests-2.26.0\n"
          ]
        },
        {
          "output_type": "display_data",
          "data": {
            "application/vnd.colab-display-data+json": {
              "pip_warning": {
                "packages": [
                  "requests"
                ]
              }
            }
          },
          "metadata": {}
        }
      ]
    },
    {
      "cell_type": "code",
      "metadata": {
        "colab": {
          "base_uri": "https://localhost:8080/"
        },
        "id": "EHjFqk5aqEAJ",
        "outputId": "ff69867f-c5b0-449c-dc90-29f0dec742ee"
      },
      "source": [
        "!pip install -U nltk==3.4"
      ],
      "execution_count": 12,
      "outputs": [
        {
          "output_type": "stream",
          "name": "stdout",
          "text": [
            "Collecting nltk==3.4\n",
            "  Downloading nltk-3.4.zip (1.4 MB)\n",
            "\u001b[?25l\r\u001b[K     |▎                               | 10 kB 18.9 MB/s eta 0:00:01\r\u001b[K     |▌                               | 20 kB 23.4 MB/s eta 0:00:01\r\u001b[K     |▊                               | 30 kB 26.1 MB/s eta 0:00:01\r\u001b[K     |█                               | 40 kB 19.9 MB/s eta 0:00:01\r\u001b[K     |█▏                              | 51 kB 7.9 MB/s eta 0:00:01\r\u001b[K     |█▍                              | 61 kB 9.1 MB/s eta 0:00:01\r\u001b[K     |█▋                              | 71 kB 8.8 MB/s eta 0:00:01\r\u001b[K     |█▉                              | 81 kB 9.7 MB/s eta 0:00:01\r\u001b[K     |██                              | 92 kB 10.3 MB/s eta 0:00:01\r\u001b[K     |██▎                             | 102 kB 8.0 MB/s eta 0:00:01\r\u001b[K     |██▌                             | 112 kB 8.0 MB/s eta 0:00:01\r\u001b[K     |██▊                             | 122 kB 8.0 MB/s eta 0:00:01\r\u001b[K     |███                             | 133 kB 8.0 MB/s eta 0:00:01\r\u001b[K     |███▏                            | 143 kB 8.0 MB/s eta 0:00:01\r\u001b[K     |███▍                            | 153 kB 8.0 MB/s eta 0:00:01\r\u001b[K     |███▋                            | 163 kB 8.0 MB/s eta 0:00:01\r\u001b[K     |████                            | 174 kB 8.0 MB/s eta 0:00:01\r\u001b[K     |████▏                           | 184 kB 8.0 MB/s eta 0:00:01\r\u001b[K     |████▍                           | 194 kB 8.0 MB/s eta 0:00:01\r\u001b[K     |████▋                           | 204 kB 8.0 MB/s eta 0:00:01\r\u001b[K     |████▉                           | 215 kB 8.0 MB/s eta 0:00:01\r\u001b[K     |█████                           | 225 kB 8.0 MB/s eta 0:00:01\r\u001b[K     |█████▎                          | 235 kB 8.0 MB/s eta 0:00:01\r\u001b[K     |█████▌                          | 245 kB 8.0 MB/s eta 0:00:01\r\u001b[K     |█████▊                          | 256 kB 8.0 MB/s eta 0:00:01\r\u001b[K     |██████                          | 266 kB 8.0 MB/s eta 0:00:01\r\u001b[K     |██████▏                         | 276 kB 8.0 MB/s eta 0:00:01\r\u001b[K     |██████▍                         | 286 kB 8.0 MB/s eta 0:00:01\r\u001b[K     |██████▋                         | 296 kB 8.0 MB/s eta 0:00:01\r\u001b[K     |██████▉                         | 307 kB 8.0 MB/s eta 0:00:01\r\u001b[K     |███████                         | 317 kB 8.0 MB/s eta 0:00:01\r\u001b[K     |███████▎                        | 327 kB 8.0 MB/s eta 0:00:01\r\u001b[K     |███████▌                        | 337 kB 8.0 MB/s eta 0:00:01\r\u001b[K     |███████▉                        | 348 kB 8.0 MB/s eta 0:00:01\r\u001b[K     |████████                        | 358 kB 8.0 MB/s eta 0:00:01\r\u001b[K     |████████▎                       | 368 kB 8.0 MB/s eta 0:00:01\r\u001b[K     |████████▌                       | 378 kB 8.0 MB/s eta 0:00:01\r\u001b[K     |████████▊                       | 389 kB 8.0 MB/s eta 0:00:01\r\u001b[K     |█████████                       | 399 kB 8.0 MB/s eta 0:00:01\r\u001b[K     |█████████▏                      | 409 kB 8.0 MB/s eta 0:00:01\r\u001b[K     |█████████▍                      | 419 kB 8.0 MB/s eta 0:00:01\r\u001b[K     |█████████▋                      | 430 kB 8.0 MB/s eta 0:00:01\r\u001b[K     |█████████▉                      | 440 kB 8.0 MB/s eta 0:00:01\r\u001b[K     |██████████                      | 450 kB 8.0 MB/s eta 0:00:01\r\u001b[K     |██████████▎                     | 460 kB 8.0 MB/s eta 0:00:01\r\u001b[K     |██████████▌                     | 471 kB 8.0 MB/s eta 0:00:01\r\u001b[K     |██████████▊                     | 481 kB 8.0 MB/s eta 0:00:01\r\u001b[K     |███████████                     | 491 kB 8.0 MB/s eta 0:00:01\r\u001b[K     |███████████▏                    | 501 kB 8.0 MB/s eta 0:00:01\r\u001b[K     |███████████▍                    | 512 kB 8.0 MB/s eta 0:00:01\r\u001b[K     |███████████▊                    | 522 kB 8.0 MB/s eta 0:00:01\r\u001b[K     |████████████                    | 532 kB 8.0 MB/s eta 0:00:01\r\u001b[K     |████████████▏                   | 542 kB 8.0 MB/s eta 0:00:01\r\u001b[K     |████████████▍                   | 552 kB 8.0 MB/s eta 0:00:01\r\u001b[K     |████████████▋                   | 563 kB 8.0 MB/s eta 0:00:01\r\u001b[K     |████████████▉                   | 573 kB 8.0 MB/s eta 0:00:01\r\u001b[K     |█████████████                   | 583 kB 8.0 MB/s eta 0:00:01\r\u001b[K     |█████████████▎                  | 593 kB 8.0 MB/s eta 0:00:01\r\u001b[K     |█████████████▌                  | 604 kB 8.0 MB/s eta 0:00:01\r\u001b[K     |█████████████▊                  | 614 kB 8.0 MB/s eta 0:00:01\r\u001b[K     |██████████████                  | 624 kB 8.0 MB/s eta 0:00:01\r\u001b[K     |██████████████▏                 | 634 kB 8.0 MB/s eta 0:00:01\r\u001b[K     |██████████████▍                 | 645 kB 8.0 MB/s eta 0:00:01\r\u001b[K     |██████████████▋                 | 655 kB 8.0 MB/s eta 0:00:01\r\u001b[K     |██████████████▉                 | 665 kB 8.0 MB/s eta 0:00:01\r\u001b[K     |███████████████                 | 675 kB 8.0 MB/s eta 0:00:01\r\u001b[K     |███████████████▎                | 686 kB 8.0 MB/s eta 0:00:01\r\u001b[K     |███████████████▋                | 696 kB 8.0 MB/s eta 0:00:01\r\u001b[K     |███████████████▉                | 706 kB 8.0 MB/s eta 0:00:01\r\u001b[K     |████████████████                | 716 kB 8.0 MB/s eta 0:00:01\r\u001b[K     |████████████████▎               | 727 kB 8.0 MB/s eta 0:00:01\r\u001b[K     |████████████████▌               | 737 kB 8.0 MB/s eta 0:00:01\r\u001b[K     |████████████████▊               | 747 kB 8.0 MB/s eta 0:00:01\r\u001b[K     |█████████████████               | 757 kB 8.0 MB/s eta 0:00:01\r\u001b[K     |█████████████████▏              | 768 kB 8.0 MB/s eta 0:00:01\r\u001b[K     |█████████████████▍              | 778 kB 8.0 MB/s eta 0:00:01\r\u001b[K     |█████████████████▋              | 788 kB 8.0 MB/s eta 0:00:01\r\u001b[K     |█████████████████▉              | 798 kB 8.0 MB/s eta 0:00:01\r\u001b[K     |██████████████████              | 808 kB 8.0 MB/s eta 0:00:01\r\u001b[K     |██████████████████▎             | 819 kB 8.0 MB/s eta 0:00:01\r\u001b[K     |██████████████████▌             | 829 kB 8.0 MB/s eta 0:00:01\r\u001b[K     |██████████████████▊             | 839 kB 8.0 MB/s eta 0:00:01\r\u001b[K     |███████████████████             | 849 kB 8.0 MB/s eta 0:00:01\r\u001b[K     |███████████████████▏            | 860 kB 8.0 MB/s eta 0:00:01\r\u001b[K     |███████████████████▌            | 870 kB 8.0 MB/s eta 0:00:01\r\u001b[K     |███████████████████▊            | 880 kB 8.0 MB/s eta 0:00:01\r\u001b[K     |████████████████████            | 890 kB 8.0 MB/s eta 0:00:01\r\u001b[K     |████████████████████▏           | 901 kB 8.0 MB/s eta 0:00:01\r\u001b[K     |████████████████████▍           | 911 kB 8.0 MB/s eta 0:00:01\r\u001b[K     |████████████████████▋           | 921 kB 8.0 MB/s eta 0:00:01\r\u001b[K     |████████████████████▉           | 931 kB 8.0 MB/s eta 0:00:01\r\u001b[K     |█████████████████████           | 942 kB 8.0 MB/s eta 0:00:01\r\u001b[K     |█████████████████████▎          | 952 kB 8.0 MB/s eta 0:00:01\r\u001b[K     |█████████████████████▌          | 962 kB 8.0 MB/s eta 0:00:01\r\u001b[K     |█████████████████████▊          | 972 kB 8.0 MB/s eta 0:00:01\r\u001b[K     |██████████████████████          | 983 kB 8.0 MB/s eta 0:00:01\r\u001b[K     |██████████████████████▏         | 993 kB 8.0 MB/s eta 0:00:01\r\u001b[K     |██████████████████████▍         | 1.0 MB 8.0 MB/s eta 0:00:01\r\u001b[K     |██████████████████████▋         | 1.0 MB 8.0 MB/s eta 0:00:01\r\u001b[K     |██████████████████████▉         | 1.0 MB 8.0 MB/s eta 0:00:01\r\u001b[K     |███████████████████████▏        | 1.0 MB 8.0 MB/s eta 0:00:01\r\u001b[K     |███████████████████████▍        | 1.0 MB 8.0 MB/s eta 0:00:01\r\u001b[K     |███████████████████████▋        | 1.1 MB 8.0 MB/s eta 0:00:01\r\u001b[K     |███████████████████████▉        | 1.1 MB 8.0 MB/s eta 0:00:01\r\u001b[K     |████████████████████████        | 1.1 MB 8.0 MB/s eta 0:00:01\r\u001b[K     |████████████████████████▎       | 1.1 MB 8.0 MB/s eta 0:00:01\r\u001b[K     |████████████████████████▌       | 1.1 MB 8.0 MB/s eta 0:00:01\r\u001b[K     |████████████████████████▊       | 1.1 MB 8.0 MB/s eta 0:00:01\r\u001b[K     |█████████████████████████       | 1.1 MB 8.0 MB/s eta 0:00:01\r\u001b[K     |█████████████████████████▏      | 1.1 MB 8.0 MB/s eta 0:00:01\r\u001b[K     |█████████████████████████▍      | 1.1 MB 8.0 MB/s eta 0:00:01\r\u001b[K     |█████████████████████████▋      | 1.1 MB 8.0 MB/s eta 0:00:01\r\u001b[K     |█████████████████████████▉      | 1.2 MB 8.0 MB/s eta 0:00:01\r\u001b[K     |██████████████████████████      | 1.2 MB 8.0 MB/s eta 0:00:01\r\u001b[K     |██████████████████████████▎     | 1.2 MB 8.0 MB/s eta 0:00:01\r\u001b[K     |██████████████████████████▌     | 1.2 MB 8.0 MB/s eta 0:00:01\r\u001b[K     |██████████████████████████▊     | 1.2 MB 8.0 MB/s eta 0:00:01\r\u001b[K     |███████████████████████████     | 1.2 MB 8.0 MB/s eta 0:00:01\r\u001b[K     |███████████████████████████▎    | 1.2 MB 8.0 MB/s eta 0:00:01\r\u001b[K     |███████████████████████████▌    | 1.2 MB 8.0 MB/s eta 0:00:01\r\u001b[K     |███████████████████████████▊    | 1.2 MB 8.0 MB/s eta 0:00:01\r\u001b[K     |████████████████████████████    | 1.2 MB 8.0 MB/s eta 0:00:01\r\u001b[K     |████████████████████████████▏   | 1.3 MB 8.0 MB/s eta 0:00:01\r\u001b[K     |████████████████████████████▍   | 1.3 MB 8.0 MB/s eta 0:00:01\r\u001b[K     |████████████████████████████▋   | 1.3 MB 8.0 MB/s eta 0:00:01\r\u001b[K     |████████████████████████████▉   | 1.3 MB 8.0 MB/s eta 0:00:01\r\u001b[K     |█████████████████████████████   | 1.3 MB 8.0 MB/s eta 0:00:01\r\u001b[K     |█████████████████████████████▎  | 1.3 MB 8.0 MB/s eta 0:00:01\r\u001b[K     |█████████████████████████████▌  | 1.3 MB 8.0 MB/s eta 0:00:01\r\u001b[K     |█████████████████████████████▊  | 1.3 MB 8.0 MB/s eta 0:00:01\r\u001b[K     |██████████████████████████████  | 1.3 MB 8.0 MB/s eta 0:00:01\r\u001b[K     |██████████████████████████████▏ | 1.4 MB 8.0 MB/s eta 0:00:01\r\u001b[K     |██████████████████████████████▍ | 1.4 MB 8.0 MB/s eta 0:00:01\r\u001b[K     |██████████████████████████████▋ | 1.4 MB 8.0 MB/s eta 0:00:01\r\u001b[K     |███████████████████████████████ | 1.4 MB 8.0 MB/s eta 0:00:01\r\u001b[K     |███████████████████████████████▏| 1.4 MB 8.0 MB/s eta 0:00:01\r\u001b[K     |███████████████████████████████▍| 1.4 MB 8.0 MB/s eta 0:00:01\r\u001b[K     |███████████████████████████████▋| 1.4 MB 8.0 MB/s eta 0:00:01\r\u001b[K     |███████████████████████████████▉| 1.4 MB 8.0 MB/s eta 0:00:01\r\u001b[K     |████████████████████████████████| 1.4 MB 8.0 MB/s \n",
            "\u001b[?25hRequirement already satisfied: six in /usr/local/lib/python3.7/dist-packages (from nltk==3.4) (1.15.0)\n",
            "Collecting singledispatch\n",
            "  Downloading singledispatch-3.7.0-py2.py3-none-any.whl (9.2 kB)\n",
            "Building wheels for collected packages: nltk\n",
            "  Building wheel for nltk (setup.py) ... \u001b[?25l\u001b[?25hdone\n",
            "  Created wheel for nltk: filename=nltk-3.4-py3-none-any.whl size=1436397 sha256=9dde94eae6a6fd3e439f2f420e9bf433c2cbcb20cbdd144a55283584d4ff290f\n",
            "  Stored in directory: /root/.cache/pip/wheels/13/b8/81/2349be11dd144dc7b68ab983b58cd2fae353cdc50bbdeb09d0\n",
            "Successfully built nltk\n",
            "Installing collected packages: singledispatch, nltk\n",
            "  Attempting uninstall: nltk\n",
            "    Found existing installation: nltk 3.2.5\n",
            "    Uninstalling nltk-3.2.5:\n",
            "      Successfully uninstalled nltk-3.2.5\n",
            "Successfully installed nltk-3.4 singledispatch-3.7.0\n"
          ]
        }
      ]
    },
    {
      "cell_type": "code",
      "metadata": {
        "colab": {
          "base_uri": "https://localhost:8080/"
        },
        "id": "qKVe9EeDthQA",
        "outputId": "3eeb1f5e-6bd0-4846-fe1b-0a0abe947daa"
      },
      "source": [
        "import nltk\n",
        "nltk.download('punkt')"
      ],
      "execution_count": 35,
      "outputs": [
        {
          "output_type": "stream",
          "name": "stderr",
          "text": [
            "[nltk_data] Downloading package punkt to /root/nltk_data...\n",
            "[nltk_data]   Unzipping tokenizers/punkt.zip.\n"
          ]
        },
        {
          "output_type": "execute_result",
          "data": {
            "text/plain": [
              "True"
            ]
          },
          "metadata": {},
          "execution_count": 35
        }
      ]
    },
    {
      "cell_type": "code",
      "metadata": {
        "colab": {
          "base_uri": "https://localhost:8080/"
        },
        "id": "Xw1OWpktqXRG",
        "outputId": "f19c0af1-260c-4210-9bc6-c48e3f089c1b"
      },
      "source": [
        "file = open(\"sample.txt\")\n",
        "text=file.read()\n",
        "print(text)\n"
      ],
      "execution_count": 43,
      "outputs": [
        {
          "output_type": "stream",
          "name": "stdout",
          "text": [
            "People who thught it am just another rainy day, immediated foliated into cats.\n"
          ]
        }
      ]
    },
    {
      "cell_type": "code",
      "metadata": {
        "id": "mAQuyiZXYgqd"
      },
      "source": [
        "from gingerit.gingerit import GingerIt\n",
        "\n",
        "# text = 'The smelt of fliwers bring back memories.'\n",
        "ref=text\n",
        "parser = GingerIt()\n",
        "first_result=parser.parse(text)['result']"
      ],
      "execution_count": 44,
      "outputs": []
    },
    {
      "cell_type": "code",
      "metadata": {
        "colab": {
          "base_uri": "https://localhost:8080/"
        },
        "id": "ZWN_oGwRYaw4",
        "outputId": "2b622822-f0a4-49f2-ca25-3d7f5a79d15f"
      },
      "source": [
        "from transformers import AutoTokenizer, AutoModelForSeq2SeqLM\n",
        "model = AutoModelForSeq2SeqLM.from_pretrained(\"ramsrigouthamg/t5-large-paraphraser-diverse-high-quality\")\n",
        "tokenizer = AutoTokenizer.from_pretrained(\"ramsrigouthamg/t5-large-paraphraser-diverse-high-quality\")\n",
        "import torch\n",
        "device = torch.device(\"cuda\" if torch.cuda.is_available() else \"cpu\")\n",
        "print (\"device \",device)\n",
        "model = model.to(device)\n",
        "# Diverse Beam search\n",
        "context = first_result\n",
        "text = \"paraphrase: \"+context + \" </s>\"\n",
        "encoding = tokenizer.encode_plus(text,max_length =128, padding=True, return_tensors=\"pt\")\n",
        "input_ids,attention_mask  = encoding[\"input_ids\"].to(device), encoding[\"attention_mask\"].to(device)\n",
        "model.eval()\n",
        "diverse_beam_outputs = model.generate(\n",
        "    input_ids=input_ids,attention_mask=attention_mask,\n",
        "    max_length=128,\n",
        "    early_stopping=True,\n",
        "    num_beams=5,\n",
        "    num_beam_groups = 5,\n",
        "    num_return_sequences=5,\n",
        "    diversity_penalty = 0.70\n",
        ")\n",
        "for beam_output in diverse_beam_outputs:\n",
        "    second_result = tokenizer.decode(beam_output, skip_special_tokens=True,clean_up_tokenization_spaces=True)\n"
      ],
      "execution_count": 45,
      "outputs": [
        {
          "output_type": "stream",
          "name": "stdout",
          "text": [
            "device  cpu\n"
          ]
        },
        {
          "output_type": "stream",
          "name": "stderr",
          "text": [
            "/usr/local/lib/python3.7/dist-packages/transformers/generation_beam_search.py:197: UserWarning:\n",
            "\n",
            "Passing `max_length` to BeamSearchScorer is deprecated and has no effect.`max_length` should be passed directly to `beam_search(...)`, `beam_sample(...)`,or `group_beam_search(...)`.\n",
            "\n"
          ]
        }
      ]
    },
    {
      "cell_type": "code",
      "metadata": {
        "colab": {
          "base_uri": "https://localhost:8080/"
        },
        "id": "0BXPam4fYuxX",
        "outputId": "72262e86-d3b0-4d75-c287-8c7b8c8937fe"
      },
      "source": [
        "parser = GingerIt()\n",
        "third_result=parser.parse(second_result)['result']\n",
        "third_result = third_result.replace('Paraphrasedoutput: ','')\n",
        "\n",
        "print(\"Original Text:\")\n",
        "print(ref)\n",
        "\n",
        "print(\"Reduced Text:\")\n",
        "print(third_result)\n",
        "\n",
        "\n",
        "\n",
        "#-----------------------------------------------------\n",
        "import os\n",
        "file2 = open(r\"reduced.txt\",\"w\")\n",
        "file2.write(third_result)"
      ],
      "execution_count": 53,
      "outputs": [
        {
          "output_type": "stream",
          "name": "stdout",
          "text": [
            "Original Text:\n",
            "People who thught it am just another rainy day, immediated foliated into cats.\n",
            "Reduced Text:\n",
            "People who said it was just another rainy day were quickly turned into cats.\n"
          ]
        },
        {
          "output_type": "execute_result",
          "data": {
            "text/plain": [
              "76"
            ]
          },
          "metadata": {},
          "execution_count": 53
        }
      ]
    },
    {
      "cell_type": "code",
      "metadata": {
        "colab": {
          "base_uri": "https://localhost:8080/",
          "height": 613
        },
        "id": "2jXwX7LUoZuq",
        "outputId": "117573c7-ff74-4582-f105-9e31cace33e3"
      },
      "source": [
        "import re\n",
        "import nltk\n",
        "from nltk.util import ngrams, pad_sequence, everygrams\n",
        "from nltk.tokenize import word_tokenize\n",
        "from nltk.lm import MLE, WittenBellInterpolated\n",
        "import numpy as np\n",
        "import plotly.graph_objects as go\n",
        "from scipy.ndimage import gaussian_filter\n",
        "\n",
        "\n",
        "\n",
        "\n",
        "train_data_file = \"sample.txt\"\n",
        "\n",
        "\n",
        "with open(train_data_file) as f:\n",
        "    train_text = f.read().lower()\n",
        "\n",
        "# preprocess\n",
        "train_text = re.sub(r\"\\[.*\\]|\\{.*\\}\", \"\", train_text)\n",
        "train_text = re.sub(r'[^\\w\\s]', \"\", train_text)\n",
        "\n",
        "# ngram num\n",
        "n = 4\n",
        "\n",
        "# tokenization\n",
        "training_data = list(pad_sequence(word_tokenize(train_text), n, \n",
        "                                  pad_left=True, \n",
        "                                  left_pad_symbol=\"<s>\"))\n",
        "\n",
        "# generate ngrams\n",
        "ngrams = list(everygrams(training_data, max_len=n))\n",
        "print(\"Number of ngrams:\", len(ngrams))\n",
        "\n",
        "# build ngram language models\n",
        "model = WittenBellInterpolated(n)\n",
        "model.fit([ngrams], vocabulary_text=training_data)\n",
        "print(model.vocab)\n",
        "\n",
        "\n",
        "test_data_file = \"reduced.txt\"\n",
        "\n",
        "# Read testing data\n",
        "with open(test_data_file) as f:\n",
        "    test_text = f.read().lower()\n",
        "test_text = re.sub(r'[^\\w\\s]', \"\", test_text)\n",
        "\n",
        "# Tokenize\n",
        "testing_data = list(pad_sequence(word_tokenize(test_text), n, \n",
        "                                 pad_left=True,\n",
        "                                 left_pad_symbol=\"<s>\"))\n",
        "print(\"Length of test data:\", len(testing_data))\n",
        "\n",
        "# scoring\n",
        "scores = []\n",
        "for i, item in enumerate(testing_data[n-1:]):\n",
        "    s = model.score(item, testing_data[i:i+n-1])\n",
        "    scores.append(s)\n",
        "\n",
        "scores_np = np.array(scores)\n",
        "\n",
        "width = 8\n",
        "height = np.ceil(len(testing_data)/width).astype(\"int32\")\n",
        "print(\"Width, Height:\", width, \",\", height)\n",
        "\n",
        "# copy scores to rectangular blank array\n",
        "a = np.zeros(width*height)\n",
        "a[:len(scores_np)] = scores_np\n",
        "diff = len(a) - len(scores_np)\n",
        "\n",
        "a = gaussian_filter(a, sigma=1.0)\n",
        "\n",
        "a = a.reshape(-1, width)\n",
        "\n",
        "# format labels\n",
        "labels = [\" \".join(testing_data[i:i+width]) for i in range(n-1, len(testing_data), width)]\n",
        "labels_individual = [x.split() for x in labels]\n",
        "labels_individual[-1] += [\"\"]*diff\n",
        "labels = [f\"{x:60.60}\" for x in labels]\n",
        "\n",
        "# create heatmap\n",
        "fig = go.Figure(data=go.Heatmap(\n",
        "                z=a, x0=0, dx=1,\n",
        "                y=labels, zmin=0, zmax=1,\n",
        "                customdata=labels_individual,\n",
        "                hovertemplate='%{customdata} <br><b>Score:%{z:.3f}<extra></extra>',\n",
        "                colorscale=\"burg\"))\n",
        "\n",
        "fig['layout']['yaxis']['autorange'] = \"reversed\"\n",
        "fig.show()"
      ],
      "execution_count": 54,
      "outputs": [
        {
          "output_type": "stream",
          "name": "stdout",
          "text": [
            "Number of ngrams: 58\n",
            "<Vocabulary with cutoff=1 unk_label='<UNK>' and 15 items>\n",
            "Length of test data: 17\n",
            "Width, Height: 8 , 3\n"
          ]
        },
        {
          "output_type": "display_data",
          "data": {
            "text/html": [
              "<html>\n",
              "<head><meta charset=\"utf-8\" /></head>\n",
              "<body>\n",
              "    <div>\n",
              "            <script src=\"https://cdnjs.cloudflare.com/ajax/libs/mathjax/2.7.5/MathJax.js?config=TeX-AMS-MML_SVG\"></script><script type=\"text/javascript\">if (window.MathJax) {MathJax.Hub.Config({SVG: {font: \"STIX-Web\"}});}</script>\n",
              "                <script type=\"text/javascript\">window.PlotlyConfig = {MathJaxConfig: 'local'};</script>\n",
              "        <script src=\"https://cdn.plot.ly/plotly-latest.min.js\"></script>    \n",
              "            <div id=\"17383c6c-913f-4f38-a005-e6a28975005a\" class=\"plotly-graph-div\" style=\"height:525px; width:100%;\"></div>\n",
              "            <script type=\"text/javascript\">\n",
              "                \n",
              "                    window.PLOTLYENV=window.PLOTLYENV || {};\n",
              "                    \n",
              "                if (document.getElementById(\"17383c6c-913f-4f38-a005-e6a28975005a\")) {\n",
              "                    Plotly.newPlot(\n",
              "                        '17383c6c-913f-4f38-a005-e6a28975005a',\n",
              "                        [{\"colorscale\": [[0.0, \"rgb(255, 198, 196)\"], [0.16666666666666666, \"rgb(244, 163, 168)\"], [0.3333333333333333, \"rgb(227, 129, 145)\"], [0.5, \"rgb(204, 96, 125)\"], [0.6666666666666666, \"rgb(173, 70, 108)\"], [0.8333333333333334, \"rgb(139, 48, 88)\"], [1.0, \"rgb(103, 32, 68)\"]], \"customdata\": [[\"people\", \"who\", \"said\", \"it\", \"was\", \"just\", \"another\", \"rainy\"], [\"day\", \"were\", \"quickly\", \"turned\", \"into\", \"cats\", \"\", \"\", \"\", \"\", \"\", \"\", \"\", \"\", \"\", \"\"]], \"dx\": 1, \"hovertemplate\": \"%{customdata} <br><b>Score:%{z:.3f}<extra></extra>\", \"type\": \"heatmap\", \"x0\": 0, \"y\": [\"people who said it was just another rainy                   \", \"day were quickly turned into cats                           \"], \"z\": [[0.9127690153085022, 0.6881306447057589, 0.2982706186461072, 0.05837060166618873, 0.004693232068401061, 0.004564418334979533, 0.05397606293202676, 0.2419039313023439], [0.3988321570041569, 0.2419039313023439, 0.05397606293202676, 0.004430625051498891, 0.00013379328348064165, 0.0, 0.0, 0.0], [0.0, 0.0, 0.0, 0.0, 0.0, 0.0, 0.0, 0.0]], \"zmax\": 1, \"zmin\": 0}],\n",
              "                        {\"template\": {\"data\": {\"bar\": [{\"error_x\": {\"color\": \"#2a3f5f\"}, \"error_y\": {\"color\": \"#2a3f5f\"}, \"marker\": {\"line\": {\"color\": \"#E5ECF6\", \"width\": 0.5}}, \"type\": \"bar\"}], \"barpolar\": [{\"marker\": {\"line\": {\"color\": \"#E5ECF6\", \"width\": 0.5}}, \"type\": \"barpolar\"}], \"carpet\": [{\"aaxis\": {\"endlinecolor\": \"#2a3f5f\", \"gridcolor\": \"white\", \"linecolor\": \"white\", \"minorgridcolor\": \"white\", \"startlinecolor\": \"#2a3f5f\"}, \"baxis\": {\"endlinecolor\": \"#2a3f5f\", \"gridcolor\": \"white\", \"linecolor\": \"white\", \"minorgridcolor\": \"white\", \"startlinecolor\": \"#2a3f5f\"}, \"type\": \"carpet\"}], \"choropleth\": [{\"colorbar\": {\"outlinewidth\": 0, \"ticks\": \"\"}, \"type\": \"choropleth\"}], \"contour\": [{\"colorbar\": {\"outlinewidth\": 0, \"ticks\": \"\"}, \"colorscale\": [[0.0, \"#0d0887\"], [0.1111111111111111, \"#46039f\"], [0.2222222222222222, \"#7201a8\"], [0.3333333333333333, \"#9c179e\"], [0.4444444444444444, \"#bd3786\"], [0.5555555555555556, \"#d8576b\"], [0.6666666666666666, \"#ed7953\"], [0.7777777777777778, \"#fb9f3a\"], [0.8888888888888888, \"#fdca26\"], [1.0, \"#f0f921\"]], \"type\": \"contour\"}], \"contourcarpet\": [{\"colorbar\": {\"outlinewidth\": 0, \"ticks\": \"\"}, \"type\": \"contourcarpet\"}], \"heatmap\": [{\"colorbar\": {\"outlinewidth\": 0, \"ticks\": \"\"}, \"colorscale\": [[0.0, \"#0d0887\"], [0.1111111111111111, \"#46039f\"], [0.2222222222222222, \"#7201a8\"], [0.3333333333333333, \"#9c179e\"], [0.4444444444444444, \"#bd3786\"], [0.5555555555555556, \"#d8576b\"], [0.6666666666666666, \"#ed7953\"], [0.7777777777777778, \"#fb9f3a\"], [0.8888888888888888, \"#fdca26\"], [1.0, \"#f0f921\"]], \"type\": \"heatmap\"}], \"heatmapgl\": [{\"colorbar\": {\"outlinewidth\": 0, \"ticks\": \"\"}, \"colorscale\": [[0.0, \"#0d0887\"], [0.1111111111111111, \"#46039f\"], [0.2222222222222222, \"#7201a8\"], [0.3333333333333333, \"#9c179e\"], [0.4444444444444444, \"#bd3786\"], [0.5555555555555556, \"#d8576b\"], [0.6666666666666666, \"#ed7953\"], [0.7777777777777778, \"#fb9f3a\"], [0.8888888888888888, \"#fdca26\"], [1.0, \"#f0f921\"]], \"type\": \"heatmapgl\"}], \"histogram\": [{\"marker\": {\"colorbar\": {\"outlinewidth\": 0, \"ticks\": \"\"}}, \"type\": \"histogram\"}], \"histogram2d\": [{\"colorbar\": {\"outlinewidth\": 0, \"ticks\": \"\"}, \"colorscale\": [[0.0, \"#0d0887\"], [0.1111111111111111, \"#46039f\"], [0.2222222222222222, \"#7201a8\"], [0.3333333333333333, \"#9c179e\"], [0.4444444444444444, \"#bd3786\"], [0.5555555555555556, \"#d8576b\"], [0.6666666666666666, \"#ed7953\"], [0.7777777777777778, \"#fb9f3a\"], [0.8888888888888888, \"#fdca26\"], [1.0, \"#f0f921\"]], \"type\": \"histogram2d\"}], \"histogram2dcontour\": [{\"colorbar\": {\"outlinewidth\": 0, \"ticks\": \"\"}, \"colorscale\": [[0.0, \"#0d0887\"], [0.1111111111111111, \"#46039f\"], [0.2222222222222222, \"#7201a8\"], [0.3333333333333333, \"#9c179e\"], [0.4444444444444444, \"#bd3786\"], [0.5555555555555556, \"#d8576b\"], [0.6666666666666666, \"#ed7953\"], [0.7777777777777778, \"#fb9f3a\"], [0.8888888888888888, \"#fdca26\"], [1.0, \"#f0f921\"]], \"type\": \"histogram2dcontour\"}], \"mesh3d\": [{\"colorbar\": {\"outlinewidth\": 0, \"ticks\": \"\"}, \"type\": \"mesh3d\"}], \"parcoords\": [{\"line\": {\"colorbar\": {\"outlinewidth\": 0, \"ticks\": \"\"}}, \"type\": \"parcoords\"}], \"pie\": [{\"automargin\": true, \"type\": \"pie\"}], \"scatter\": [{\"marker\": {\"colorbar\": {\"outlinewidth\": 0, \"ticks\": \"\"}}, \"type\": \"scatter\"}], \"scatter3d\": [{\"line\": {\"colorbar\": {\"outlinewidth\": 0, \"ticks\": \"\"}}, \"marker\": {\"colorbar\": {\"outlinewidth\": 0, \"ticks\": \"\"}}, \"type\": \"scatter3d\"}], \"scattercarpet\": [{\"marker\": {\"colorbar\": {\"outlinewidth\": 0, \"ticks\": \"\"}}, \"type\": \"scattercarpet\"}], \"scattergeo\": [{\"marker\": {\"colorbar\": {\"outlinewidth\": 0, \"ticks\": \"\"}}, \"type\": \"scattergeo\"}], \"scattergl\": [{\"marker\": {\"colorbar\": {\"outlinewidth\": 0, \"ticks\": \"\"}}, \"type\": \"scattergl\"}], \"scattermapbox\": [{\"marker\": {\"colorbar\": {\"outlinewidth\": 0, \"ticks\": \"\"}}, \"type\": \"scattermapbox\"}], \"scatterpolar\": [{\"marker\": {\"colorbar\": {\"outlinewidth\": 0, \"ticks\": \"\"}}, \"type\": \"scatterpolar\"}], \"scatterpolargl\": [{\"marker\": {\"colorbar\": {\"outlinewidth\": 0, \"ticks\": \"\"}}, \"type\": \"scatterpolargl\"}], \"scatterternary\": [{\"marker\": {\"colorbar\": {\"outlinewidth\": 0, \"ticks\": \"\"}}, \"type\": \"scatterternary\"}], \"surface\": [{\"colorbar\": {\"outlinewidth\": 0, \"ticks\": \"\"}, \"colorscale\": [[0.0, \"#0d0887\"], [0.1111111111111111, \"#46039f\"], [0.2222222222222222, \"#7201a8\"], [0.3333333333333333, \"#9c179e\"], [0.4444444444444444, \"#bd3786\"], [0.5555555555555556, \"#d8576b\"], [0.6666666666666666, \"#ed7953\"], [0.7777777777777778, \"#fb9f3a\"], [0.8888888888888888, \"#fdca26\"], [1.0, \"#f0f921\"]], \"type\": \"surface\"}], \"table\": [{\"cells\": {\"fill\": {\"color\": \"#EBF0F8\"}, \"line\": {\"color\": \"white\"}}, \"header\": {\"fill\": {\"color\": \"#C8D4E3\"}, \"line\": {\"color\": \"white\"}}, \"type\": \"table\"}]}, \"layout\": {\"annotationdefaults\": {\"arrowcolor\": \"#2a3f5f\", \"arrowhead\": 0, \"arrowwidth\": 1}, \"coloraxis\": {\"colorbar\": {\"outlinewidth\": 0, \"ticks\": \"\"}}, \"colorscale\": {\"diverging\": [[0, \"#8e0152\"], [0.1, \"#c51b7d\"], [0.2, \"#de77ae\"], [0.3, \"#f1b6da\"], [0.4, \"#fde0ef\"], [0.5, \"#f7f7f7\"], [0.6, \"#e6f5d0\"], [0.7, \"#b8e186\"], [0.8, \"#7fbc41\"], [0.9, \"#4d9221\"], [1, \"#276419\"]], \"sequential\": [[0.0, \"#0d0887\"], [0.1111111111111111, \"#46039f\"], [0.2222222222222222, \"#7201a8\"], [0.3333333333333333, \"#9c179e\"], [0.4444444444444444, \"#bd3786\"], [0.5555555555555556, \"#d8576b\"], [0.6666666666666666, \"#ed7953\"], [0.7777777777777778, \"#fb9f3a\"], [0.8888888888888888, \"#fdca26\"], [1.0, \"#f0f921\"]], \"sequentialminus\": [[0.0, \"#0d0887\"], [0.1111111111111111, \"#46039f\"], [0.2222222222222222, \"#7201a8\"], [0.3333333333333333, \"#9c179e\"], [0.4444444444444444, \"#bd3786\"], [0.5555555555555556, \"#d8576b\"], [0.6666666666666666, \"#ed7953\"], [0.7777777777777778, \"#fb9f3a\"], [0.8888888888888888, \"#fdca26\"], [1.0, \"#f0f921\"]]}, \"colorway\": [\"#636efa\", \"#EF553B\", \"#00cc96\", \"#ab63fa\", \"#FFA15A\", \"#19d3f3\", \"#FF6692\", \"#B6E880\", \"#FF97FF\", \"#FECB52\"], \"font\": {\"color\": \"#2a3f5f\"}, \"geo\": {\"bgcolor\": \"white\", \"lakecolor\": \"white\", \"landcolor\": \"#E5ECF6\", \"showlakes\": true, \"showland\": true, \"subunitcolor\": \"white\"}, \"hoverlabel\": {\"align\": \"left\"}, \"hovermode\": \"closest\", \"mapbox\": {\"style\": \"light\"}, \"paper_bgcolor\": \"white\", \"plot_bgcolor\": \"#E5ECF6\", \"polar\": {\"angularaxis\": {\"gridcolor\": \"white\", \"linecolor\": \"white\", \"ticks\": \"\"}, \"bgcolor\": \"#E5ECF6\", \"radialaxis\": {\"gridcolor\": \"white\", \"linecolor\": \"white\", \"ticks\": \"\"}}, \"scene\": {\"xaxis\": {\"backgroundcolor\": \"#E5ECF6\", \"gridcolor\": \"white\", \"gridwidth\": 2, \"linecolor\": \"white\", \"showbackground\": true, \"ticks\": \"\", \"zerolinecolor\": \"white\"}, \"yaxis\": {\"backgroundcolor\": \"#E5ECF6\", \"gridcolor\": \"white\", \"gridwidth\": 2, \"linecolor\": \"white\", \"showbackground\": true, \"ticks\": \"\", \"zerolinecolor\": \"white\"}, \"zaxis\": {\"backgroundcolor\": \"#E5ECF6\", \"gridcolor\": \"white\", \"gridwidth\": 2, \"linecolor\": \"white\", \"showbackground\": true, \"ticks\": \"\", \"zerolinecolor\": \"white\"}}, \"shapedefaults\": {\"line\": {\"color\": \"#2a3f5f\"}}, \"ternary\": {\"aaxis\": {\"gridcolor\": \"white\", \"linecolor\": \"white\", \"ticks\": \"\"}, \"baxis\": {\"gridcolor\": \"white\", \"linecolor\": \"white\", \"ticks\": \"\"}, \"bgcolor\": \"#E5ECF6\", \"caxis\": {\"gridcolor\": \"white\", \"linecolor\": \"white\", \"ticks\": \"\"}}, \"title\": {\"x\": 0.05}, \"xaxis\": {\"automargin\": true, \"gridcolor\": \"white\", \"linecolor\": \"white\", \"ticks\": \"\", \"title\": {\"standoff\": 15}, \"zerolinecolor\": \"white\", \"zerolinewidth\": 2}, \"yaxis\": {\"automargin\": true, \"gridcolor\": \"white\", \"linecolor\": \"white\", \"ticks\": \"\", \"title\": {\"standoff\": 15}, \"zerolinecolor\": \"white\", \"zerolinewidth\": 2}}}, \"yaxis\": {\"autorange\": \"reversed\"}},\n",
              "                        {\"responsive\": true}\n",
              "                    ).then(function(){\n",
              "                            \n",
              "var gd = document.getElementById('17383c6c-913f-4f38-a005-e6a28975005a');\n",
              "var x = new MutationObserver(function (mutations, observer) {{\n",
              "        var display = window.getComputedStyle(gd).display;\n",
              "        if (!display || display === 'none') {{\n",
              "            console.log([gd, 'removed!']);\n",
              "            Plotly.purge(gd);\n",
              "            observer.disconnect();\n",
              "        }}\n",
              "}});\n",
              "\n",
              "// Listen for the removal of the full notebook cells\n",
              "var notebookContainer = gd.closest('#notebook-container');\n",
              "if (notebookContainer) {{\n",
              "    x.observe(notebookContainer, {childList: true});\n",
              "}}\n",
              "\n",
              "// Listen for the clearing of the current output cell\n",
              "var outputEl = gd.closest('.output');\n",
              "if (outputEl) {{\n",
              "    x.observe(outputEl, {childList: true});\n",
              "}}\n",
              "\n",
              "                        })\n",
              "                };\n",
              "                \n",
              "            </script>\n",
              "        </div>\n",
              "</body>\n",
              "</html>"
            ]
          },
          "metadata": {}
        }
      ]
    },
    {
      "cell_type": "code",
      "metadata": {
        "colab": {
          "base_uri": "https://localhost:8080/"
        },
        "id": "jxXseoAOxHcV",
        "outputId": "ec1caa4f-d4c5-44b1-8ddb-b48bec8c9bfa"
      },
      "source": [
        "print(a)"
      ],
      "execution_count": 56,
      "outputs": [
        {
          "output_type": "stream",
          "name": "stdout",
          "text": [
            "[[9.12769015e-01 6.88130645e-01 2.98270619e-01 5.83706017e-02\n",
            "  4.69323207e-03 4.56441833e-03 5.39760629e-02 2.41903931e-01]\n",
            " [3.98832157e-01 2.41903931e-01 5.39760629e-02 4.43062505e-03\n",
            "  1.33793283e-04 0.00000000e+00 0.00000000e+00 0.00000000e+00]\n",
            " [0.00000000e+00 0.00000000e+00 0.00000000e+00 0.00000000e+00\n",
            "  0.00000000e+00 0.00000000e+00 0.00000000e+00 0.00000000e+00]]\n"
          ]
        }
      ]
    }
  ]
}